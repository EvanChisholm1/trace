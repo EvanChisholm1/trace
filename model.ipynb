{
 "cells": [
  {
   "cell_type": "code",
   "execution_count": 1,
   "metadata": {},
   "outputs": [],
   "source": [
    "import torch\n",
    "import torch.nn as nn\n",
    "import torch.nn.functional as F\n",
    "import torch.optim as optim\n",
    "import json\n",
    "from PIL import Image"
   ]
  },
  {
   "cell_type": "code",
   "execution_count": 2,
   "metadata": {},
   "outputs": [
    {
     "data": {
      "text/plain": [
       "{'image': 'frame_0655.jpg',\n",
       " 'points': [{'x': 523, 'y': 348}, {'x': 548, 'y': 347}]}"
      ]
     },
     "execution_count": 2,
     "metadata": {},
     "output_type": "execute_result"
    }
   ],
   "source": [
    "labelled_json = json.load(open('./data/labeled_images.json', 'r'))\n",
    "labelled_json[0]"
   ]
  },
  {
   "cell_type": "code",
   "execution_count": null,
   "metadata": {},
   "outputs": [],
   "source": []
  },
  {
   "cell_type": "code",
   "execution_count": 3,
   "metadata": {},
   "outputs": [],
   "source": [
    "def build_dataset(json_data):\n",
    "    X, Y = [], []\n",
    "\n",
    "    count = 0\n",
    "    for item in json_data:\n",
    "        count += 1\n",
    "        img = Image.open('./data/raw_images/' + item['image'])\n",
    "        img = img.resize((round(16/9 * 128), 128))\n",
    "        img_tensor = torch.tensor(list(img.getdata()), dtype=torch.float32).view(3, 128, round(16/9 * 128))\n",
    "        \n",
    "        X.append(img_tensor)\n",
    "        point_tensor = torch.tensor([item['points'][0]['x'], item['points'][0]['y'], item['points'][1]['x'], item['points'][1]['y']], dtype=torch.float32)\n",
    "        Y.append(point_tensor)\n",
    "\n",
    "        if count % 100 == 0:\n",
    "            print(count)\n",
    "    \n",
    "    X = torch.stack(X)\n",
    "    Y = torch.stack(Y)\n",
    "    return X, Y\n"
   ]
  },
  {
   "cell_type": "code",
   "execution_count": 5,
   "metadata": {},
   "outputs": [
    {
     "name": "stdout",
     "output_type": "stream",
     "text": [
      "100\n",
      "200\n",
      "300\n",
      "400\n",
      "500\n",
      "600\n",
      "700\n",
      "800\n",
      "900\n",
      "1000\n",
      "1100\n",
      "1200\n",
      "1300\n",
      "1400\n",
      "1500\n",
      "1600\n",
      "1700\n",
      "1800\n",
      "1900\n",
      "loaded training data\n",
      "100\n",
      "200\n",
      "300\n",
      "400\n",
      "loaded validation data\n"
     ]
    }
   ],
   "source": [
    "Xtr, Ytr = build_dataset(labelled_json[:int(len(labelled_json) * 0.8)])\n",
    "print('loaded training data')\n",
    "Xval, Yval = build_dataset(labelled_json[int(len(labelled_json) * 0.8):])\n",
    "print('loaded validation data')"
   ]
  },
  {
   "cell_type": "code",
   "execution_count": 5,
   "metadata": {},
   "outputs": [
    {
     "data": {
      "text/plain": [
       "torch.Size([3, 128, 228])"
      ]
     },
     "execution_count": 5,
     "metadata": {},
     "output_type": "execute_result"
    }
   ],
   "source": [
    "X[0].shape"
   ]
  },
  {
   "cell_type": "code",
   "execution_count": 6,
   "metadata": {},
   "outputs": [],
   "source": [
    "class SimpleConvNet(nn.Module):\n",
    "    def __init__(self):\n",
    "        super(SimpleConvNet, self).__init__()\n",
    "\n",
    "        # Define the convolutional layers\n",
    "        self.conv1 = nn.Conv2d(in_channels=3, out_channels=64, kernel_size=5, stride=1, padding=1)\n",
    "        self.relu1 = nn.ReLU()\n",
    "        self.pool1 = nn.MaxPool2d(kernel_size=2, stride=2)\n",
    "\n",
    "        self.conv2 = nn.Conv2d(in_channels=64, out_channels=128, kernel_size=3, stride=1, padding=1)\n",
    "        self.relu2 = nn.ReLU()\n",
    "        self.pool2 = nn.MaxPool2d(kernel_size=2, stride=2)\n",
    "\n",
    "        # Define fully connected layers\n",
    "        self.fc1 = nn.Linear(222208, 512)  # Adjust the input size based on your image dimensions\n",
    "        self.relu3 = nn.ReLU()\n",
    "\n",
    "        # Output layer\n",
    "        self.fc2 = nn.Linear(512, 4)  # Output 4 logits\n",
    "\n",
    "    def forward(self, x):\n",
    "        # Input: (batch_size, channels, height, width)\n",
    "        # Example: (batch_size, 3, 128, 228)\n",
    "\n",
    "        # Convolutional layers\n",
    "        x = self.conv1(x)\n",
    "        x = self.relu1(x)\n",
    "        x = self.pool1(x)\n",
    "\n",
    "        x = self.conv2(x)\n",
    "        x = self.relu2(x)\n",
    "        x = self.pool2(x)\n",
    "\n",
    "        # Flatten the output for the fully connected layers\n",
    "        x = x.view(x.size(0), -1)\n",
    "\n",
    "        # Fully connected layers\n",
    "        x = self.fc1(x)\n",
    "        x = self.relu3(x)\n",
    "\n",
    "        # Output layer\n",
    "        x = self.fc2(x)\n",
    "\n",
    "        return x\n",
    "\n",
    "# m = SimpleConvNet()\n",
    "# m = m.cuda()"
   ]
  },
  {
   "cell_type": "code",
   "execution_count": 7,
   "metadata": {},
   "outputs": [],
   "source": [
    "m = SimpleConvNet()"
   ]
  },
  {
   "cell_type": "code",
   "execution_count": 8,
   "metadata": {},
   "outputs": [
    {
     "name": "stdout",
     "output_type": "stream",
     "text": [
      "113851780\n"
     ]
    }
   ],
   "source": [
    "# get n parameters\n",
    "n = sum(p.numel() for p in m.parameters())\n",
    "print(n)"
   ]
  },
  {
   "cell_type": "code",
   "execution_count": 9,
   "metadata": {},
   "outputs": [],
   "source": [
    "m = m.cuda()\n",
    "Xtr, Ytr = Xtr.cuda(), Ytr.cuda()\n",
    "Xval, Yval = Xval.cuda(), Yval.cuda()"
   ]
  },
  {
   "cell_type": "code",
   "execution_count": 10,
   "metadata": {},
   "outputs": [
    {
     "name": "stderr",
     "output_type": "stream",
     "text": [
      "/home/evan/.local/lib/python3.10/site-packages/tqdm/auto.py:21: TqdmWarning: IProgress not found. Please update jupyter and ipywidgets. See https://ipywidgets.readthedocs.io/en/stable/user_install.html\n",
      "  from .autonotebook import tqdm as notebook_tqdm\n"
     ]
    }
   ],
   "source": [
    "# Define the loss function and optimizer\n",
    "criterion = nn.MSELoss().cuda()\n",
    "optimizer = optim.Adam(m.parameters(), lr=3e-4)"
   ]
  },
  {
   "cell_type": "code",
   "execution_count": 11,
   "metadata": {},
   "outputs": [],
   "source": [
    "lossi = []\n",
    "vallossi = []"
   ]
  },
  {
   "cell_type": "code",
   "execution_count": 12,
   "metadata": {},
   "outputs": [],
   "source": [
    "def estimate_loss(split, batch_size=32):\n",
    "    losses = []\n",
    "    X = Xtr if split == 'train' else Xval\n",
    "    Y = Ytr if split == 'train' else Yval\n",
    "    m.eval()\n",
    "    for i in range(0, len(split), batch_size):\n",
    "        X_batch = X[i:i + batch_size]\n",
    "        Y_batch = Y[i:i + batch_size]\n",
    "\n",
    "        # Forward pass\n",
    "        with torch.no_grad():\n",
    "            Y_pred = m(X_batch)\n",
    "\n",
    "        # Compute loss\n",
    "        loss = criterion(Y_pred, Y_batch)\n",
    "\n",
    "        losses.append(loss.item())\n",
    "\n",
    "    m.train()\n",
    "    return sum(losses) / len(losses)"
   ]
  },
  {
   "cell_type": "code",
   "execution_count": 13,
   "metadata": {},
   "outputs": [
    {
     "name": "stdout",
     "output_type": "stream",
     "text": [
      "batch: 0, train loss: 749694.875, val loss: 3106940.25\n",
      "saving best model\n",
      "batch: 500, train loss: 4485.703125, val loss: 7077.64453125\n",
      "saving best model\n",
      "batch: 1000, train loss: 1158.480224609375, val loss: 3271.345458984375\n",
      "saving best model\n",
      "batch: 1500, train loss: 232.96908569335938, val loss: 2523.9033203125\n",
      "saving best model\n",
      "batch: 2000, train loss: 248.8382568359375, val loss: 2295.919677734375\n",
      "saving best model\n",
      "batch: 2500, train loss: 367.81134033203125, val loss: 2467.690673828125\n",
      "batch: 3000, train loss: 231.8272247314453, val loss: 2480.876708984375\n",
      "batch: 3500, train loss: 82.50630950927734, val loss: 2090.499755859375\n",
      "saving best model\n",
      "batch: 4000, train loss: 142.3737030029297, val loss: 2199.352783203125\n",
      "batch: 4500, train loss: 75.83686065673828, val loss: 2520.216796875\n",
      "batch: 5000, train loss: 638.8101806640625, val loss: 2264.066650390625\n",
      "batch: 5500, train loss: 152.25347900390625, val loss: 2326.51416015625\n",
      "batch: 6000, train loss: 198.152587890625, val loss: 1910.685302734375\n",
      "saving best model\n",
      "batch: 6500, train loss: 98.913330078125, val loss: 2321.86376953125\n",
      "batch: 7000, train loss: 436.0128173828125, val loss: 2834.04248046875\n",
      "batch: 7500, train loss: 115.70977020263672, val loss: 2064.986572265625\n",
      "batch: 8000, train loss: 132.87655639648438, val loss: 2526.73095703125\n",
      "batch: 8500, train loss: 34.019588470458984, val loss: 1887.015625\n",
      "saving best model\n",
      "batch: 9000, train loss: 115.25021362304688, val loss: 2233.7373046875\n",
      "batch: 9500, train loss: 28.500598907470703, val loss: 2070.857421875\n"
     ]
    }
   ],
   "source": [
    "# training loop\n",
    "best_val_loss = 1e9\n",
    "for i in range(10000):\n",
    "    # zero the parameter gradients\n",
    "    optimizer.zero_grad()\n",
    "\n",
    "    idx = torch.randint(0, Xtr.shape[0], (64,))\n",
    "    X = Xtr[idx]\n",
    "    Y = Ytr[idx]\n",
    "\n",
    "    # print(X.device)\n",
    "    \n",
    "\n",
    "    # forward + backward + optimize\n",
    "    outputs = m(X)\n",
    "    loss = criterion(outputs, Y)\n",
    "    loss.backward()\n",
    "    optimizer.step()\n",
    "\n",
    "    lossi.append(loss.item())\n",
    "\n",
    "    # print statistics\n",
    "    if i % 500 == 0:\n",
    "        val_loss = estimate_loss('val')\n",
    "        vallossi.append(val_loss)\n",
    "        print(f\"batch: {i}, train loss: {loss.item()}, val loss: {val_loss}\")\n",
    "        if val_loss < best_val_loss:\n",
    "            best_val_loss = val_loss\n",
    "            print('saving best model')\n",
    "            torch.save(m.state_dict(), './best_model.pt')"
   ]
  },
  {
   "cell_type": "code",
   "execution_count": 14,
   "metadata": {},
   "outputs": [
    {
     "data": {
      "text/plain": [
       "2396.922119140625"
      ]
     },
     "execution_count": 14,
     "metadata": {},
     "output_type": "execute_result"
    }
   ],
   "source": [
    "estimate_loss('val')"
   ]
  },
  {
   "cell_type": "code",
   "execution_count": 67,
   "metadata": {},
   "outputs": [
    {
     "data": {
      "text/plain": [
       "[<matplotlib.lines.Line2D at 0x7f40bbad88b0>]"
      ]
     },
     "execution_count": 67,
     "metadata": {},
     "output_type": "execute_result"
    },
    {
     "data": {
      "image/png": "[encoded data removed]",
      "text/plain": [
       "<Figure size 640x480 with 1 Axes>"
      ]
     },
     "metadata": {},
     "output_type": "display_data"
    }
   ],
   "source": [
    "import matplotlib.pyplot as plt\n",
    "plt.plot(torch.tensor(lossi).log10())"
   ]
  },
  {
   "cell_type": "code",
   "execution_count": 68,
   "metadata": {},
   "outputs": [
    {
     "data": {
      "text/plain": [
       "[<matplotlib.lines.Line2D at 0x7f40e0834d90>]"
      ]
     },
     "execution_count": 68,
     "metadata": {},
     "output_type": "execute_result"
    },
    {
     "data": {
      "image/png": "[encoded data removed]",
      "text/plain": [
       "<Figure size 640x480 with 1 Axes>"
      ]
     },
     "metadata": {},
     "output_type": "display_data"
    }
   ],
   "source": [
    "plt.plot(torch.tensor(vallossi).log10())"
   ]
  },
  {
   "cell_type": "code",
   "execution_count": 95,
   "metadata": {},
   "outputs": [
    {
     "name": "stdout",
     "output_type": "stream",
     "text": [
      "x intial shape torch.Size([1, 3, 128, 228])\n",
      "x after conv1 torch.Size([1, 64, 126, 226])\n",
      "x after pool1 torch.Size([1, 64, 63, 113])\n",
      "x after conv2 torch.Size([1, 128, 63, 113])\n",
      "x after pool2 torch.Size([1, 128, 31, 56])\n",
      "x after flattening torch.Size([1, 222208])\n",
      "x after fc1 torch.Size([1, 512])\n",
      "final x shape torch.Size([1, 4])\n"
     ]
    },
    {
     "data": {
      "text/plain": [
       "tensor([[ -3.5551,  -3.9806,   0.4860, -16.2665]], device='cuda:0',\n",
       "       grad_fn=<AddmmBackward0>)"
      ]
     },
     "execution_count": 95,
     "metadata": {},
     "output_type": "execute_result"
    }
   ],
   "source": [
    "m(Xtr[0].unsqueeze(0))"
   ]
  },
  {
   "cell_type": "code",
   "execution_count": 12,
   "metadata": {},
   "outputs": [],
   "source": [
    "\n",
    "img = Image.open('./test.jpg')\n",
    "img = img.resize((round(16/9 * 128), 128))\n",
    "# img = img.resize((1920, 1080), resample=Image.BILINEAR)\n",
    "img.save('./test_resized.jpg')\n",
    "img_tensor = torch.tensor(list(img.getdata()), dtype=torch.float32).view(3, 128, round(16/9 * 128))\n"
   ]
  },
  {
   "cell_type": "code",
   "execution_count": 13,
   "metadata": {},
   "outputs": [
    {
     "data": {
      "text/plain": [
       "tensor([[648.5787, 844.9042, 659.7710, 829.2066]], device='cuda:0',\n",
       "       grad_fn=<AddmmBackward0>)"
      ]
     },
     "execution_count": 13,
     "metadata": {},
     "output_type": "execute_result"
    }
   ],
   "source": [
    "m(img_tensor.unsqueeze(0).cuda())"
   ]
  },
  {
   "cell_type": "code",
   "execution_count": 66,
   "metadata": {},
   "outputs": [],
   "source": [
    "torch.save(m.state_dict(), './model2.pt')"
   ]
  },
  {
   "cell_type": "markdown",
   "metadata": {},
   "source": [
    "# losses\n",
    "1: final val loss 2452"
   ]
  }
 ],
 "metadata": {
  "kernelspec": {
   "display_name": "Python 3",
   "language": "python",
   "name": "python3"
  },
  "language_info": {
   "codemirror_mode": {
    "name": "ipython",
    "version": 3
   },
   "file_extension": ".py",
   "mimetype": "text/x-python",
   "name": "python",
   "nbconvert_exporter": "python",
   "pygments_lexer": "ipython3",
   "version": "3.10.12"
  }
 },
 "nbformat": 4,
 "nbformat_minor": 2
}

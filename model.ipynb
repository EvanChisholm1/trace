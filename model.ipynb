{
 "cells": [
  {
   "cell_type": "code",
   "execution_count": 1,
   "metadata": {},
   "outputs": [],
   "source": [
    "import torch\n",
    "import torch.nn as nn\n",
    "import torch.nn.functional as F\n",
    "import torch.optim as optim\n",
    "import json\n",
    "from PIL import Image"
   ]
  },
  {
   "cell_type": "code",
   "execution_count": 2,
   "metadata": {},
   "outputs": [
    {
     "data": {
      "text/plain": [
       "{'image': 'frame_0655.jpg',\n",
       " 'points': [{'x': 523, 'y': 348}, {'x': 548, 'y': 347}]}"
      ]
     },
     "execution_count": 2,
     "metadata": {},
     "output_type": "execute_result"
    }
   ],
   "source": [
    "labelled_json = json.load(open('./data/labeled_images.json', 'r'))\n",
    "labelled_json[0]"
   ]
  },
  {
   "cell_type": "code",
   "execution_count": 20,
   "metadata": {},
   "outputs": [],
   "source": [
    "def build_dataset(json_data):\n",
    "    X, Y = [], []\n",
    "\n",
    "    count = 0\n",
    "    for item in json_data:\n",
    "        count += 1\n",
    "        img = Image.open('./data/raw_images/' + item['image'])\n",
    "        img = img.resize((round(16/9 * 128), 128))\n",
    "        img_tensor = torch.tensor(list(img.getdata()), dtype=torch.float32).view(3, 128, round(16/9 * 128))\n",
    "        \n",
    "        X.append(img_tensor)\n",
    "        point_tensor = torch.tensor([item['points'][0]['x'], item['points'][0]['y'], item['points'][1]['x'], item['points'][1]['y']], dtype=torch.float32)\n",
    "        Y.append(point_tensor)\n",
    "\n",
    "        if count % 100 == 0:\n",
    "            print(count)\n",
    "    \n",
    "    X = torch.stack(X)\n",
    "    Y = torch.stack(Y)\n",
    "    return X, Y\n"
   ]
  },
  {
   "cell_type": "code",
   "execution_count": 21,
   "metadata": {},
   "outputs": [
    {
     "name": "stdout",
     "output_type": "stream",
     "text": [
      "100\n",
      "200\n",
      "300\n",
      "400\n",
      "500\n",
      "600\n",
      "700\n",
      "800\n",
      "900\n",
      "1000\n",
      "1100\n",
      "loaded training data\n",
      "100\n",
      "200\n",
      "loaded validation data\n"
     ]
    }
   ],
   "source": [
    "Xtr, Ytr = build_dataset(labelled_json[:int(len(labelled_json) * 0.8)])\n",
    "print('loaded training data')\n",
    "Xval, Yval = build_dataset(labelled_json[int(len(labelled_json) * 0.8):])\n",
    "print('loaded validation data')"
   ]
  },
  {
   "cell_type": "code",
   "execution_count": 5,
   "metadata": {},
   "outputs": [
    {
     "data": {
      "text/plain": [
       "torch.Size([3, 128, 228])"
      ]
     },
     "execution_count": 5,
     "metadata": {},
     "output_type": "execute_result"
    }
   ],
   "source": [
    "X[0].shape"
   ]
  },
  {
   "cell_type": "code",
   "execution_count": 33,
   "metadata": {},
   "outputs": [],
   "source": [
    "class SimpleConvNet(nn.Module):\n",
    "    def __init__(self):\n",
    "        super(SimpleConvNet, self).__init__()\n",
    "\n",
    "        # Define the convolutional layers\n",
    "        self.conv1 = nn.Conv2d(in_channels=3, out_channels=16, kernel_size=3, stride=1, padding=1)\n",
    "        self.relu1 = nn.ReLU()\n",
    "        self.pool1 = nn.MaxPool2d(kernel_size=2, stride=2)\n",
    "\n",
    "        self.conv2 = nn.Conv2d(in_channels=16, out_channels=32, kernel_size=3, stride=1, padding=1)\n",
    "        self.relu2 = nn.ReLU()\n",
    "        self.pool2 = nn.MaxPool2d(kernel_size=2, stride=2)\n",
    "\n",
    "        # Define fully connected layers\n",
    "        self.fc1 = nn.Linear(32 * 32 * 57, 128)  # Adjust the input size based on your image dimensions\n",
    "        self.relu3 = nn.ReLU()\n",
    "\n",
    "        # Output layer\n",
    "        self.fc2 = nn.Linear(128, 4)  # Output 4 logits\n",
    "\n",
    "    def forward(self, x):\n",
    "        # Input: (batch_size, channels, height, width)\n",
    "        # Example: (batch_size, 3, 128, 228)\n",
    "\n",
    "        # Convolutional layers\n",
    "        x = self.conv1(x)\n",
    "        x = self.relu1(x)\n",
    "        x = self.pool1(x)\n",
    "\n",
    "        x = self.conv2(x)\n",
    "        x = self.relu2(x)\n",
    "        x = self.pool2(x)\n",
    "\n",
    "        # Flatten the output for the fully connected layers\n",
    "        x = x.view(x.size(0), -1)\n",
    "\n",
    "        # Fully connected layers\n",
    "        x = self.fc1(x)\n",
    "        x = self.relu3(x)\n",
    "\n",
    "        # Output layer\n",
    "        x = self.fc2(x)\n",
    "\n",
    "        return x\n",
    "\n",
    "m = SimpleConvNet()"
   ]
  },
  {
   "cell_type": "code",
   "execution_count": 41,
   "metadata": {},
   "outputs": [
    {
     "name": "stdout",
     "output_type": "stream",
     "text": [
      "7476836\n"
     ]
    }
   ],
   "source": [
    "# get n parameters\n",
    "n = sum(p.numel() for p in m.parameters())\n",
    "print(n)"
   ]
  },
  {
   "cell_type": "code",
   "execution_count": 34,
   "metadata": {},
   "outputs": [],
   "source": [
    "m = m.cuda()\n",
    "Xtr, Ytr = Xtr.cuda(), Ytr.cuda()\n",
    "Xval, Yval = Xval.cuda(), Yval.cuda()"
   ]
  },
  {
   "cell_type": "code",
   "execution_count": 35,
   "metadata": {},
   "outputs": [],
   "source": [
    "# Define the loss function and optimizer\n",
    "criterion = nn.MSELoss().cuda()\n",
    "optimizer = optim.Adam(m.parameters(), lr=3e-4)"
   ]
  },
  {
   "cell_type": "code",
   "execution_count": 36,
   "metadata": {},
   "outputs": [],
   "source": [
    "lossi = []"
   ]
  },
  {
   "cell_type": "code",
   "execution_count": 37,
   "metadata": {},
   "outputs": [],
   "source": [
    "def estimate_loss(split, batch_size=32):\n",
    "    losses = []\n",
    "    X = Xtr if split == 'train' else Xval\n",
    "    Y = Ytr if split == 'train' else Yval\n",
    "    m.eval()\n",
    "    for i in range(0, len(split), batch_size):\n",
    "        X_batch = X[i:i + batch_size]\n",
    "        Y_batch = Y[i:i + batch_size]\n",
    "\n",
    "        # Forward pass\n",
    "        with torch.no_grad():\n",
    "            Y_pred = m(X_batch)\n",
    "\n",
    "        # Compute loss\n",
    "        loss = criterion(Y_pred, Y_batch)\n",
    "\n",
    "        losses.append(loss.item())\n",
    "\n",
    "    m.train()\n",
    "    return sum(losses) / len(losses)"
   ]
  },
  {
   "cell_type": "code",
   "execution_count": 38,
   "metadata": {},
   "outputs": [
    {
     "name": "stdout",
     "output_type": "stream",
     "text": [
      "batch: 0, train loss: 809232.625, val loss: 192689.875\n",
      "batch: 500, train loss: 5949.31201171875, val loss: 31124.140625\n",
      "batch: 1000, train loss: 3125.097900390625, val loss: 23263.552734375\n",
      "batch: 1500, train loss: 1113.384521484375, val loss: 23472.640625\n",
      "batch: 2000, train loss: 669.7945556640625, val loss: 23309.390625\n",
      "batch: 2500, train loss: 184.92581176757812, val loss: 19563.10546875\n",
      "batch: 3000, train loss: 104.52108001708984, val loss: 18383.0390625\n",
      "batch: 3500, train loss: 244.3147735595703, val loss: 17487.39453125\n",
      "batch: 4000, train loss: 268.9712219238281, val loss: 17715.56640625\n",
      "batch: 4500, train loss: 122.7077407836914, val loss: 18089.419921875\n",
      "batch: 5000, train loss: 290.5516052246094, val loss: 18498.6796875\n",
      "batch: 5500, train loss: 33.09419250488281, val loss: 18460.244140625\n",
      "batch: 6000, train loss: 124.6216049194336, val loss: 16794.228515625\n",
      "batch: 6500, train loss: 583.3113403320312, val loss: 19929.71875\n",
      "batch: 7000, train loss: 38.7477912902832, val loss: 17074.3828125\n",
      "batch: 7500, train loss: 36.97736358642578, val loss: 18135.36328125\n",
      "batch: 8000, train loss: 68.81427001953125, val loss: 18380.138671875\n",
      "batch: 8500, train loss: 62.54584884643555, val loss: 17872.73828125\n",
      "batch: 9000, train loss: 114.11438751220703, val loss: 17976.427734375\n",
      "batch: 9500, train loss: 24.965641021728516, val loss: 17401.82421875\n",
      "batch: 10000, train loss: 147.8750457763672, val loss: 16901.080078125\n",
      "batch: 10500, train loss: 65.85639190673828, val loss: 17977.4296875\n",
      "batch: 11000, train loss: 37.11194610595703, val loss: 18358.974609375\n",
      "batch: 11500, train loss: 232.90908813476562, val loss: 16930.708984375\n",
      "batch: 12000, train loss: 27.42278289794922, val loss: 17445.654296875\n",
      "batch: 12500, train loss: 308.41680908203125, val loss: 17938.7109375\n",
      "batch: 13000, train loss: 35.22574996948242, val loss: 17130.1875\n",
      "batch: 13500, train loss: 17.014053344726562, val loss: 17461.982421875\n",
      "batch: 14000, train loss: 63.538944244384766, val loss: 16998.166015625\n",
      "batch: 14500, train loss: 89.49386596679688, val loss: 17332.8359375\n",
      "batch: 15000, train loss: 26.68661117553711, val loss: 17332.08984375\n",
      "batch: 15500, train loss: 9.148012161254883, val loss: 17141.8359375\n",
      "batch: 16000, train loss: 54.86656951904297, val loss: 18133.578125\n",
      "batch: 16500, train loss: 59.18091583251953, val loss: 17044.53125\n",
      "batch: 17000, train loss: 61.83894729614258, val loss: 16944.09375\n",
      "batch: 17500, train loss: 45.1970100402832, val loss: 16805.16015625\n",
      "batch: 18000, train loss: 61.18402099609375, val loss: 16638.6953125\n",
      "batch: 18500, train loss: 10.429880142211914, val loss: 16479.02734375\n",
      "batch: 19000, train loss: 55.9383430480957, val loss: 16273.66796875\n",
      "batch: 19500, train loss: 55.87451171875, val loss: 16317.1689453125\n",
      "batch: 20000, train loss: 115.08553314208984, val loss: 16451.865234375\n",
      "batch: 20500, train loss: 98.5591049194336, val loss: 16600.21875\n",
      "batch: 21000, train loss: 10.304342269897461, val loss: 16792.732421875\n",
      "batch: 21500, train loss: 186.02169799804688, val loss: 15844.548828125\n",
      "batch: 22000, train loss: 4.004852294921875, val loss: 16394.583984375\n",
      "batch: 22500, train loss: 44.43516159057617, val loss: 16299.3876953125\n",
      "batch: 23000, train loss: 105.98092651367188, val loss: 17124.32421875\n",
      "batch: 23500, train loss: 83.99091339111328, val loss: 16694.361328125\n",
      "batch: 24000, train loss: 99.28126525878906, val loss: 16526.359375\n",
      "batch: 24500, train loss: 30.610939025878906, val loss: 16223.193359375\n",
      "batch: 25000, train loss: 3.648434638977051, val loss: 16393.875\n",
      "batch: 25500, train loss: 30.526710510253906, val loss: 16020.5185546875\n",
      "batch: 26000, train loss: 15.047807693481445, val loss: 16150.568359375\n",
      "batch: 26500, train loss: 252.03492736816406, val loss: 15818.744140625\n",
      "batch: 27000, train loss: 9.158339500427246, val loss: 16013.47265625\n",
      "batch: 27500, train loss: 4.890688896179199, val loss: 16115.658203125\n",
      "batch: 28000, train loss: 80.88390350341797, val loss: 17084.61328125\n",
      "batch: 28500, train loss: 187.40179443359375, val loss: 16523.123046875\n",
      "batch: 29000, train loss: 20.650806427001953, val loss: 16053.9208984375\n",
      "batch: 29500, train loss: 21.27683448791504, val loss: 15796.642578125\n",
      "batch: 30000, train loss: 17.84697914123535, val loss: 15838.55078125\n",
      "batch: 30500, train loss: 3.4361519813537598, val loss: 15931.49609375\n",
      "batch: 31000, train loss: 271.64404296875, val loss: 15425.048828125\n",
      "batch: 31500, train loss: 5.973720550537109, val loss: 16206.74609375\n",
      "batch: 32000, train loss: 4.873432636260986, val loss: 16161.0166015625\n",
      "batch: 32500, train loss: 49.742340087890625, val loss: 16247.177734375\n",
      "batch: 33000, train loss: 290.61346435546875, val loss: 15538.44140625\n",
      "batch: 33500, train loss: 2.1826272010803223, val loss: 16169.650390625\n",
      "batch: 34000, train loss: 20.88045310974121, val loss: 16319.8095703125\n",
      "batch: 34500, train loss: 21.006683349609375, val loss: 16265.0703125\n",
      "batch: 35000, train loss: 21.480854034423828, val loss: 16270.611328125\n",
      "batch: 35500, train loss: 72.7569351196289, val loss: 16029.796875\n",
      "batch: 36000, train loss: 4.418546676635742, val loss: 15869.9365234375\n",
      "batch: 36500, train loss: 16.935962677001953, val loss: 16242.8310546875\n",
      "batch: 37000, train loss: 28.086801528930664, val loss: 15909.3359375\n",
      "batch: 37500, train loss: 36.109619140625, val loss: 16037.876953125\n",
      "batch: 38000, train loss: 35.80528259277344, val loss: 15949.3017578125\n",
      "batch: 38500, train loss: 22.574769973754883, val loss: 15979.265625\n",
      "batch: 39000, train loss: 38.110992431640625, val loss: 15379.6064453125\n",
      "batch: 39500, train loss: 13.767255783081055, val loss: 15730.2392578125\n",
      "batch: 40000, train loss: 318.7052001953125, val loss: 15239.7265625\n",
      "batch: 40500, train loss: 1.5843217372894287, val loss: 15862.4033203125\n",
      "batch: 41000, train loss: 2.931668996810913, val loss: 15939.966796875\n",
      "batch: 41500, train loss: 38.471832275390625, val loss: 16196.357421875\n",
      "batch: 42000, train loss: 42.818084716796875, val loss: 15625.50390625\n",
      "batch: 42500, train loss: 17.586341857910156, val loss: 15689.69921875\n",
      "batch: 43000, train loss: 55.59062576293945, val loss: 15510.416015625\n",
      "batch: 43500, train loss: 14.049983978271484, val loss: 15987.3642578125\n",
      "batch: 44000, train loss: 38.20409393310547, val loss: 15557.681640625\n",
      "batch: 44500, train loss: 4.123237133026123, val loss: 15517.0693359375\n",
      "batch: 45000, train loss: 22.67460823059082, val loss: 15530.7158203125\n",
      "batch: 45500, train loss: 10.031580924987793, val loss: 15740.34765625\n",
      "batch: 46000, train loss: 113.10923767089844, val loss: 15597.798828125\n",
      "batch: 46500, train loss: 5.591233730316162, val loss: 15320.73046875\n",
      "batch: 47000, train loss: 27.157001495361328, val loss: 15322.3271484375\n",
      "batch: 47500, train loss: 45.75817108154297, val loss: 17225.484375\n",
      "batch: 48000, train loss: 1.8092777729034424, val loss: 15427.29296875\n",
      "batch: 48500, train loss: 54.0323600769043, val loss: 15731.79296875\n",
      "batch: 49000, train loss: 82.1021728515625, val loss: 15201.2216796875\n",
      "batch: 49500, train loss: 48.422889709472656, val loss: 15441.0849609375\n",
      "batch: 50000, train loss: 18.530548095703125, val loss: 15648.861328125\n",
      "batch: 50500, train loss: 28.130414962768555, val loss: 15883.96484375\n",
      "batch: 51000, train loss: 11.216209411621094, val loss: 15398.970703125\n",
      "batch: 51500, train loss: 10.212089538574219, val loss: 15692.2392578125\n",
      "batch: 52000, train loss: 11.576509475708008, val loss: 15290.21484375\n",
      "batch: 52500, train loss: 104.92993927001953, val loss: 15674.396484375\n",
      "batch: 53000, train loss: 4.195481300354004, val loss: 15691.7099609375\n",
      "batch: 53500, train loss: 160.50347900390625, val loss: 14990.08203125\n",
      "batch: 54000, train loss: 3.720608711242676, val loss: 15612.0625\n",
      "batch: 54500, train loss: 6.630918502807617, val loss: 15633.416015625\n",
      "batch: 55000, train loss: 37.18170928955078, val loss: 15472.375\n",
      "batch: 55500, train loss: 37.40666961669922, val loss: 15690.923828125\n",
      "batch: 56000, train loss: 25.766124725341797, val loss: 15469.7578125\n",
      "batch: 56500, train loss: 93.0418472290039, val loss: 15130.1884765625\n",
      "batch: 57000, train loss: 56.23060989379883, val loss: 15664.4140625\n",
      "batch: 57500, train loss: 63.92475128173828, val loss: 15462.5390625\n",
      "batch: 58000, train loss: 9.826505661010742, val loss: 15442.671875\n",
      "batch: 58500, train loss: 26.425912857055664, val loss: 15519.1787109375\n",
      "batch: 59000, train loss: 10.570863723754883, val loss: 15426.921875\n",
      "batch: 59500, train loss: 23.87286376953125, val loss: 15218.83203125\n",
      "batch: 60000, train loss: 5.194655895233154, val loss: 15391.416015625\n",
      "batch: 60500, train loss: 69.33887481689453, val loss: 15498.158203125\n",
      "batch: 61000, train loss: 4.803508281707764, val loss: 15702.103515625\n",
      "batch: 61500, train loss: 0.879044234752655, val loss: 15465.943359375\n",
      "batch: 62000, train loss: 37.750511169433594, val loss: 15230.890625\n",
      "batch: 62500, train loss: 84.83778381347656, val loss: 15754.3359375\n",
      "batch: 63000, train loss: 13.90047550201416, val loss: 15498.2060546875\n",
      "batch: 63500, train loss: 31.214767456054688, val loss: 15818.572265625\n",
      "batch: 64000, train loss: 9.291438102722168, val loss: 15546.478515625\n",
      "batch: 64500, train loss: 6.636342525482178, val loss: 15555.046875\n",
      "batch: 65000, train loss: 2.8024020195007324, val loss: 15614.6328125\n",
      "batch: 65500, train loss: 38.38922882080078, val loss: 15911.478515625\n",
      "batch: 66000, train loss: 1.153852105140686, val loss: 15494.859375\n",
      "batch: 66500, train loss: 8.657468795776367, val loss: 15397.966796875\n",
      "batch: 67000, train loss: 33.84931182861328, val loss: 15804.162109375\n",
      "batch: 67500, train loss: 2.128800630569458, val loss: 15496.1005859375\n",
      "batch: 68000, train loss: 73.95304107666016, val loss: 15171.3173828125\n",
      "batch: 68500, train loss: 2.6975960731506348, val loss: 15260.494140625\n",
      "batch: 69000, train loss: 0.4164809584617615, val loss: 15326.052734375\n",
      "batch: 69500, train loss: 18.85591697692871, val loss: 15226.1806640625\n",
      "batch: 70000, train loss: 19.848989486694336, val loss: 15689.3115234375\n",
      "batch: 70500, train loss: 15.481180191040039, val loss: 15478.8876953125\n",
      "batch: 71000, train loss: 5.705410957336426, val loss: 15404.8515625\n",
      "batch: 71500, train loss: 26.5333251953125, val loss: 15631.1162109375\n",
      "batch: 72000, train loss: 30.604101181030273, val loss: 15604.6484375\n",
      "batch: 72500, train loss: 20.454530715942383, val loss: 15250.625\n",
      "batch: 73000, train loss: 6.174173831939697, val loss: 15676.552734375\n",
      "batch: 73500, train loss: 187.84408569335938, val loss: 16042.865234375\n",
      "batch: 74000, train loss: 2.2505788803100586, val loss: 15627.1142578125\n",
      "batch: 74500, train loss: 1.467785358428955, val loss: 15601.05078125\n",
      "batch: 75000, train loss: 34.174468994140625, val loss: 15495.1591796875\n",
      "batch: 75500, train loss: 20.275489807128906, val loss: 15686.0078125\n",
      "batch: 76000, train loss: 5.270837783813477, val loss: 15502.951171875\n",
      "batch: 76500, train loss: 34.27522277832031, val loss: 15591.958984375\n",
      "batch: 77000, train loss: 7.114053726196289, val loss: 15625.72265625\n",
      "batch: 77500, train loss: 94.00746154785156, val loss: 16023.080078125\n",
      "batch: 78000, train loss: 4.965170383453369, val loss: 15501.9130859375\n",
      "batch: 78500, train loss: 19.636123657226562, val loss: 15646.2724609375\n",
      "batch: 79000, train loss: 14.286303520202637, val loss: 15313.994140625\n",
      "batch: 79500, train loss: 11.63113021850586, val loss: 15969.482421875\n",
      "batch: 80000, train loss: 58.49952697753906, val loss: 15441.314453125\n",
      "batch: 80500, train loss: 7.351794719696045, val loss: 15314.69140625\n",
      "batch: 81000, train loss: 15.970746994018555, val loss: 15680.951171875\n",
      "batch: 81500, train loss: 17.290327072143555, val loss: 15813.685546875\n",
      "batch: 82000, train loss: 3.7143912315368652, val loss: 15344.6328125\n",
      "batch: 82500, train loss: 13.806608200073242, val loss: 15332.62890625\n",
      "batch: 83000, train loss: 21.0784912109375, val loss: 15311.12890625\n",
      "batch: 83500, train loss: 28.720600128173828, val loss: 15506.134765625\n",
      "batch: 84000, train loss: 24.34180450439453, val loss: 15458.126953125\n",
      "batch: 84500, train loss: 7.687412261962891, val loss: 15489.7431640625\n",
      "batch: 85000, train loss: 87.24758911132812, val loss: 15535.8623046875\n",
      "batch: 85500, train loss: 4.211203575134277, val loss: 15630.787109375\n",
      "batch: 86000, train loss: 2.044623851776123, val loss: 15502.23828125\n",
      "batch: 86500, train loss: 40.89608383178711, val loss: 15785.728515625\n",
      "batch: 87000, train loss: 1.8987336158752441, val loss: 15559.5673828125\n",
      "batch: 87500, train loss: 37.751068115234375, val loss: 15779.0361328125\n",
      "batch: 88000, train loss: 25.08725357055664, val loss: 15502.1650390625\n",
      "batch: 88500, train loss: 17.872024536132812, val loss: 15959.39453125\n",
      "batch: 89000, train loss: 11.60976791381836, val loss: 15801.3662109375\n",
      "batch: 89500, train loss: 8.130741119384766, val loss: 15609.759765625\n",
      "batch: 90000, train loss: 21.364551544189453, val loss: 15690.552734375\n",
      "batch: 90500, train loss: 19.836502075195312, val loss: 15906.93359375\n",
      "batch: 91000, train loss: 12.6997709274292, val loss: 15647.5703125\n",
      "batch: 91500, train loss: 37.53446960449219, val loss: 16038.408203125\n",
      "batch: 92000, train loss: 15.034271240234375, val loss: 15824.4931640625\n",
      "batch: 92500, train loss: 2.664607524871826, val loss: 15709.267578125\n",
      "batch: 93000, train loss: 44.605350494384766, val loss: 15870.92578125\n",
      "batch: 93500, train loss: 11.161239624023438, val loss: 15648.748046875\n",
      "batch: 94000, train loss: 5.215233325958252, val loss: 15712.4609375\n",
      "batch: 94500, train loss: 4.688231945037842, val loss: 15611.7587890625\n",
      "batch: 95000, train loss: 0.573090672492981, val loss: 15620.2216796875\n",
      "batch: 95500, train loss: 15.0535888671875, val loss: 15310.9052734375\n",
      "batch: 96000, train loss: 2.2323317527770996, val loss: 15659.068359375\n",
      "batch: 96500, train loss: 9.252936363220215, val loss: 15564.470703125\n",
      "batch: 97000, train loss: 15.909011840820312, val loss: 15441.0439453125\n",
      "batch: 97500, train loss: 12.697193145751953, val loss: 15596.51953125\n",
      "batch: 98000, train loss: 17.065784454345703, val loss: 15365.9267578125\n",
      "batch: 98500, train loss: 17.163875579833984, val loss: 15968.6064453125\n",
      "batch: 99000, train loss: 2.4739112854003906, val loss: 15604.4794921875\n",
      "batch: 99500, train loss: 28.865631103515625, val loss: 15607.244140625\n"
     ]
    }
   ],
   "source": [
    "# training loop\n",
    "for i in range(100000):\n",
    "    # zero the parameter gradients\n",
    "    optimizer.zero_grad()\n",
    "\n",
    "    idx = torch.randint(0, Xtr.shape[0], (32,))\n",
    "    X = Xtr[idx]\n",
    "    Y = Ytr[idx]\n",
    "\n",
    "    # forward + backward + optimize\n",
    "    outputs = m(X.float())\n",
    "    loss = criterion(outputs, Y)\n",
    "    loss.backward()\n",
    "    optimizer.step()\n",
    "\n",
    "    lossi.append(loss.item())\n",
    "\n",
    "    # print statistics\n",
    "    if i % 500 == 0:\n",
    "        val_loss = estimate_loss('val')\n",
    "        print(f\"batch: {i}, train loss: {loss.item()}, val loss: {val_loss}\")"
   ]
  },
  {
   "cell_type": "code",
   "execution_count": 39,
   "metadata": {},
   "outputs": [
    {
     "data": {
      "text/plain": [
       "[<matplotlib.lines.Line2D at 0x7fc0a059f5b0>]"
      ]
     },
     "execution_count": 39,
     "metadata": {},
     "output_type": "execute_result"
    },
    {
     "data": {
      "image/png": "[encoded data removed]",
      "text/plain": [
       "<Figure size 640x480 with 1 Axes>"
      ]
     },
     "metadata": {},
     "output_type": "display_data"
    }
   ],
   "source": [
    "import matplotlib.pyplot as plt\n",
    "plt.plot(torch.tensor(lossi).log10())"
   ]
  },
  {
   "cell_type": "code",
   "execution_count": 11,
   "metadata": {},
   "outputs": [
    {
     "data": {
      "text/plain": [
       "tensor([[523.8409, 348.0636, 548.8771, 347.0054]], device='cuda:0',\n",
       "       grad_fn=<AddmmBackward0>)"
      ]
     },
     "execution_count": 11,
     "metadata": {},
     "output_type": "execute_result"
    }
   ],
   "source": [
    "m(X[0].unsqueeze(0))"
   ]
  },
  {
   "cell_type": "code",
   "execution_count": 12,
   "metadata": {},
   "outputs": [],
   "source": [
    "\n",
    "img = Image.open('./test.jpg')\n",
    "img = img.resize((round(16/9 * 128), 128))\n",
    "# img = img.resize((1920, 1080), resample=Image.BILINEAR)\n",
    "img.save('./test_resized.jpg')\n",
    "img_tensor = torch.tensor(list(img.getdata()), dtype=torch.float32).view(3, 128, round(16/9 * 128))\n"
   ]
  },
  {
   "cell_type": "code",
   "execution_count": 13,
   "metadata": {},
   "outputs": [
    {
     "data": {
      "text/plain": [
       "tensor([[648.5787, 844.9042, 659.7710, 829.2066]], device='cuda:0',\n",
       "       grad_fn=<AddmmBackward0>)"
      ]
     },
     "execution_count": 13,
     "metadata": {},
     "output_type": "execute_result"
    }
   ],
   "source": [
    "m(img_tensor.unsqueeze(0).cuda())"
   ]
  },
  {
   "cell_type": "code",
   "execution_count": 40,
   "metadata": {},
   "outputs": [],
   "source": [
    "torch.save(m.state_dict(), './model.pt')"
   ]
  }
 ],
 "metadata": {
  "kernelspec": {
   "display_name": "Python 3",
   "language": "python",
   "name": "python3"
  },
  "language_info": {
   "codemirror_mode": {
    "name": "ipython",
    "version": 3
   },
   "file_extension": ".py",
   "mimetype": "text/x-python",
   "name": "python",
   "nbconvert_exporter": "python",
   "pygments_lexer": "ipython3",
   "version": "3.10.12"
  }
 },
 "nbformat": 4,
 "nbformat_minor": 2
}
